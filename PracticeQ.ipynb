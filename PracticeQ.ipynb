{
 "cells": [
  {
   "cell_type": "code",
   "execution_count": 1,
   "id": "a5ff209b-9b9c-43a1-bba4-e4494ed7e68e",
   "metadata": {},
   "outputs": [
    {
     "name": "stdout",
     "output_type": "stream",
     "text": [
      "[[0 1 2]\n",
      " [3 4 5]\n",
      " [6 7 8]]\n"
     ]
    }
   ],
   "source": [
    "#Create a 3x3 matrix with values ranging from 0 to 8\n",
    "import numpy as np\n",
    "\n",
    "# Create a 3x3 matrix with values ranging from 0 to 8\n",
    "matrix = np.arange(9).reshape(3, 3)\n",
    "\n",
    "print(matrix)\n"
   ]
  },
  {
   "cell_type": "code",
   "execution_count": 2,
   "id": "18065803-08c5-4c75-94c3-85ea2f3e104a",
   "metadata": {},
   "outputs": [
    {
     "name": "stdout",
     "output_type": "stream",
     "text": [
      "Sum of all elements: 45\n"
     ]
    }
   ],
   "source": [
    "#Find the sum of all the elements in a NumPy array\n",
    "import numpy as np\n",
    "arr = np.array([[1, 2, 3],\n",
    "                [4, 5, 6],\n",
    "                [7, 8, 9]])\n",
    "sum_of_elements = arr.sum()\n",
    "\n",
    "print(\"Sum of all elements:\", sum_of_elements)\n"
   ]
  },
  {
   "cell_type": "code",
   "execution_count": 4,
   "id": "39750eae-8b80-4b66-a826-65b9604fecef",
   "metadata": {},
   "outputs": [
    {
     "name": "stdout",
     "output_type": "stream",
     "text": [
      "Array after replacing odd no with -1: [[-1  2 -1]\n",
      " [ 4 -1  6]\n",
      " [-1  8 -1]]\n"
     ]
    }
   ],
   "source": [
    "\n",
    "arr[arr % 2 != 0] = -1\n",
    "\n",
    "print(\"Array after replacing odd no with -1:\", arr)\n"
   ]
  },
  {
   "cell_type": "code",
   "execution_count": 5,
   "id": "09739477-29bc-4c85-b90b-5991c2a1f970",
   "metadata": {},
   "outputs": [
    {
     "name": "stdout",
     "output_type": "stream",
     "text": [
      "Common items between arr1 and arr2: [3 4 5]\n"
     ]
    }
   ],
   "source": [
    "#How to get the common items between two python NumPy arrays?\n",
    "import numpy as np\n",
    "arr1 = np.array([1, 2, 3, 4, 5])\n",
    "arr2 = np.array([3, 4, 5, 6, 7])\n",
    "common_items = np.intersect1d(arr1, arr2)\n",
    "\n",
    "print(\"Common items between arr1 and arr2:\", common_items)\n"
   ]
  },
  {
   "cell_type": "code",
   "execution_count": 6,
   "id": "f5d3e26f-3ba9-4bf3-bdeb-2be3c1faf617",
   "metadata": {},
   "outputs": [
    {
     "data": {
      "text/plain": [
       "(array([3, 6], dtype=int64),)"
      ]
     },
     "execution_count": 6,
     "metadata": {},
     "output_type": "execute_result"
    }
   ],
   "source": [
    "#How to get the positions where elements of two arrays match?\n",
    "import numpy\n",
    "\n",
    "a = numpy.array([0, 1, 2, 3, 4, 5, 6])\n",
    "b = numpy.array([6, 5, 4, 3, 2, 1, 6])\n",
    "numpy.where(a==b)"
   ]
  },
  {
   "cell_type": "code",
   "execution_count": 7,
   "id": "d15f2026-dc53-499c-9d4b-393e8913fc6e",
   "metadata": {},
   "outputs": [
    {
     "name": "stdout",
     "output_type": "stream",
     "text": [
      "2D array of random floats between 5 and 10:\n",
      "[[8.48571901 9.17806114 6.31515035 6.42516476]\n",
      " [9.03598781 8.15782251 6.35538318 5.77184002]\n",
      " [5.50327479 6.43199871 5.72659165 8.28787598]]\n"
     ]
    }
   ],
   "source": [
    "#How to create a 2D array containing random floats between 5 and 10?\n",
    "import numpy as np\n",
    "\n",
    "\n",
    "rows = 3\n",
    "cols = 4\n",
    "\n",
    "random_array = 5 + np.random.random((rows, cols)) * 5\n",
    "\n",
    "print(\"2D array of random floats between 5 and 10:\")\n",
    "print(random_array)\n"
   ]
  },
  {
   "cell_type": "code",
   "execution_count": 10,
   "id": "6fcb394a-4a55-4faa-a272-152cf5f6952c",
   "metadata": {},
   "outputs": [
    {
     "name": "stdout",
     "output_type": "stream",
     "text": [
      "[[7 0 8]\n",
      " [3 2 5]\n",
      " [1 4 6]]\n"
     ]
    }
   ],
   "source": [
    "import numpy as np\n",
    "\n",
    "# Create a sample 2D array\n",
    "array = np.array([[3, 2, 5],\n",
    "                  [1, 4, 6],\n",
    "                  [7, 0, 8]])\n",
    "\n",
    "# Define the index of the column to sort by\n",
    "n = 1\n",
    "# Sort the array by the nth column\n",
    "sorted_array = array[array[:, n].argsort()]\n",
    "print(sorted_array)\n"
   ]
  },
  {
   "cell_type": "code",
   "execution_count": 11,
   "id": "a2632fdb-1335-4111-a1e2-1caa8829c749",
   "metadata": {},
   "outputs": [
    {
     "name": "stdout",
     "output_type": "stream",
     "text": [
      "The array does not have null columns.\n"
     ]
    }
   ],
   "source": [
    "#How to tell if a given 2D array has null columns\n",
    "import numpy as np\n",
    "array = np.array([[1, 2, 0],\n",
    "                  [0, 0, 0],\n",
    "                  [3, 0, 4]])\n",
    "\n",
    "# Check if any column is null\n",
    "null_columns = np.all(array == 0, axis=0)\n",
    "\n",
    "if np.any(null_columns):\n",
    "    print(\"The array has null columns.\")\n",
    "    print(\"Indices of null columns:\", np.where(null_columns)[0])\n",
    "else:\n",
    "    print(\"The array does not have null columns.\")\n"
   ]
  },
  {
   "cell_type": "code",
   "execution_count": null,
   "id": "89b95fc9-c7b8-48f9-bf23-e607962d0efd",
   "metadata": {},
   "outputs": [],
   "source": []
  },
  {
   "cell_type": "code",
   "execution_count": null,
   "id": "1c6f1758-3c9a-47db-8132-7d63bf277a8b",
   "metadata": {},
   "outputs": [],
   "source": []
  },
  {
   "cell_type": "code",
   "execution_count": null,
   "id": "1184587b-005b-48bc-85cf-ef494ecfac1a",
   "metadata": {},
   "outputs": [],
   "source": []
  },
  {
   "cell_type": "code",
   "execution_count": null,
   "id": "81bc2e09-8d3d-430a-9586-182ddde233b0",
   "metadata": {},
   "outputs": [],
   "source": []
  },
  {
   "cell_type": "code",
   "execution_count": null,
   "id": "e23abbbe-18c5-4627-911b-1b5c3cca54ae",
   "metadata": {},
   "outputs": [],
   "source": []
  }
 ],
 "metadata": {
  "kernelspec": {
   "display_name": "Python 3 (ipykernel)",
   "language": "python",
   "name": "python3"
  },
  "language_info": {
   "codemirror_mode": {
    "name": "ipython",
    "version": 3
   },
   "file_extension": ".py",
   "mimetype": "text/x-python",
   "name": "python",
   "nbconvert_exporter": "python",
   "pygments_lexer": "ipython3",
   "version": "3.12.1"
  }
 },
 "nbformat": 4,
 "nbformat_minor": 5
}
